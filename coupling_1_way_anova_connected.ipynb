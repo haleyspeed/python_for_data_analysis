{
 "cells": [
  {
   "cell_type": "markdown",
   "metadata": {},
   "source": [
    "# One-Way ANOVA with Dunnett Posthoc Comparisons "
   ]
  },
  {
   "cell_type": "markdown",
   "metadata": {},
   "source": [
    "Performs ANOVAs and Dunnett posthoc comparisons for ANOVAs using a Python wrapper for R. \n",
    " "
   ]
  },
  {
   "cell_type": "markdown",
   "metadata": {},
   "source": [
    "### User Input"
   ]
  },
  {
   "cell_type": "code",
   "execution_count": 1,
   "metadata": {},
   "outputs": [],
   "source": [
    "f_in = \"coupling_connected.csv\"\n",
    "exp_name = \"Demo\""
   ]
  },
  {
   "cell_type": "markdown",
   "metadata": {},
   "source": [
    "### Import Statements for Python and Library loading for R"
   ]
  },
  {
   "cell_type": "code",
   "execution_count": 2,
   "metadata": {},
   "outputs": [],
   "source": [
    "import rpy2\n",
    "import rpy2.robjects as ro\n",
    "from rpy2.robjects.packages import importr\n",
    "import pandas as pd\n",
    "import numpy as np\n",
    "import os\n",
    "from rpy2.robjects import r, pandas2ri\n",
    "from IPython.display import display, HTML\n",
    "\n",
    "\n",
    "base = importr('base')\n",
    "utils = importr('utils')\n",
    "desc_tools = importr('DescTools')\n",
    "fsa = importr('FSA')\n",
    "rcompanion = importr('rcompanion')\n",
    "mcv = importr('multcompView')\n",
    "lsmeans = importr('lsmeans')\n",
    "stats = importr('stats')\n",
    "dunnett = ro.r['DunnettTest']"
   ]
  },
  {
   "cell_type": "markdown",
   "metadata": {},
   "source": [
    "### Read in the Data via Python"
   ]
  },
  {
   "cell_type": "markdown",
   "metadata": {},
   "source": [
    "There are well-documented bugs in the transferring of a pandas dataframe to an R dataframe, so the offical way to ensure your analysis is formatted correctly, you have to parse out the columns into individual variables at the start."
   ]
  },
  {
   "cell_type": "code",
   "execution_count": 3,
   "metadata": {},
   "outputs": [],
   "source": [
    "# Function for saving pandas dataframes to csv spreadsheets\n",
    "def save_csv (df_out, file_out):\n",
    "    df_out.to_csv(file_out, index = False)\n",
    "    \n",
    "# Read the clean data into a pandas dataframe\n",
    "df = pd.read_csv(f_in)\n",
    "\n",
    "# Parse the data in local R variables\n",
    "# Pandas dataframes do not faithfully convert to R dataframes\n",
    "cc = ro.vectors.FloatVector (df.cc)\n",
    "cc_nmda = ro.vectors.FloatVector (df.cc_nmda)\n",
    "cc_pchange = ro.vectors.FloatVector (df.cc_pchange)\n",
    "gj = ro.vectors.FloatVector (df.gj)\n",
    "gj_nmda = ro.vectors.FloatVector (df.gj_nmda)\n",
    "gj_pchange = ro.vectors.FloatVector (df.gj_pchange)\n",
    "vm = ro.vectors.FloatVector (df.vm1)\n",
    "vm_nmda = ro.vectors.FloatVector (df.vm1_nmda)\n",
    "rin = ro.vectors.FloatVector (df.rin1)\n",
    "rin_nmda = ro.vectors.FloatVector (df.rin1_nmda)\n",
    "dist = ro.vectors.FloatVector (df.distance)\n",
    "strain = ro.vectors.FactorVector (df.strain)\n",
    "\n",
    "# Convert local R variables to global R variables\n",
    "# Does not work if you do it all in one step\n",
    "ro.globalenv ['strain'] = strain\n",
    "ro.globalenv ['cc'] = cc\n",
    "ro.globalenv ['cc_nmda'] = cc_nmda\n",
    "ro.globalenv ['cc_pchange'] = cc_pchange\n",
    "ro.globalenv ['gj'] = gj\n",
    "ro.globalenv ['gj_nmda'] = gj_nmda\n",
    "ro.globalenv ['gj_pchange'] = gj_pchange\n",
    "ro.globalenv ['vm'] = vm\n",
    "ro.globalenv ['vm_nmda'] = vm_nmda\n",
    "ro.globalenv ['rin'] = rin\n",
    "ro.globalenv ['rin_nmda'] = rin_nmda\n",
    "ro.globalenv ['dist'] = dist\n",
    "\n",
    "# Make a list of measurements to be analyzed\n",
    "analyze = [cc, cc_nmda, cc_pchange, gj, gj_nmda, gj_pchange, vm, vm_nmda, rin, \n",
    "           rin_nmda]\n",
    "labels = [\"cc\", \"cc_nmda\", \"cc_pchange\", \"gj\", \"gj_nmda\", \"gj_pchange\", \"vm\", \n",
    "          \"vm_nmda\", \"rin\", \"rin_nmda\"]"
   ]
  },
  {
   "cell_type": "markdown",
   "metadata": {},
   "source": [
    "### One-Way ANOVA with mouse strain as Factor"
   ]
  },
  {
   "cell_type": "code",
   "execution_count": 4,
   "metadata": {
    "scrolled": false
   },
   "outputs": [
    {
     "data": {
      "text/html": [
       "<h4> One-Way ANOVA Results: cc"
      ],
      "text/plain": [
       "<IPython.core.display.HTML object>"
      ]
     },
     "metadata": {},
     "output_type": "display_data"
    },
    {
     "data": {
      "text/html": [
       "<table border=\"1\" class=\"dataframe\">\n",
       "  <thead>\n",
       "    <tr style=\"text-align: right;\">\n",
       "      <th></th>\n",
       "      <th>measure</th>\n",
       "      <th>df_group</th>\n",
       "      <th>df_err</th>\n",
       "      <th>ss_groups</th>\n",
       "      <th>ss_err</th>\n",
       "      <th>ms_groups</th>\n",
       "      <th>ms_err</th>\n",
       "      <th>f_stat</th>\n",
       "      <th>p_value</th>\n",
       "    </tr>\n",
       "  </thead>\n",
       "  <tbody>\n",
       "    <tr>\n",
       "      <th>0</th>\n",
       "      <td>cc</td>\n",
       "      <td>3.0</td>\n",
       "      <td>82.0</td>\n",
       "      <td>5.129109</td>\n",
       "      <td>35.925878</td>\n",
       "      <td>1.709703</td>\n",
       "      <td>0.43812</td>\n",
       "      <td>3.902358</td>\n",
       "      <td>0.011678</td>\n",
       "    </tr>\n",
       "  </tbody>\n",
       "</table>"
      ],
      "text/plain": [
       "<IPython.core.display.HTML object>"
      ]
     },
     "metadata": {},
     "output_type": "display_data"
    },
    {
     "data": {
      "text/html": [
       "<h4> One-Way ANOVA Results: cc_nmda"
      ],
      "text/plain": [
       "<IPython.core.display.HTML object>"
      ]
     },
     "metadata": {},
     "output_type": "display_data"
    },
    {
     "data": {
      "text/html": [
       "<table border=\"1\" class=\"dataframe\">\n",
       "  <thead>\n",
       "    <tr style=\"text-align: right;\">\n",
       "      <th></th>\n",
       "      <th>measure</th>\n",
       "      <th>df_group</th>\n",
       "      <th>df_err</th>\n",
       "      <th>ss_groups</th>\n",
       "      <th>ss_err</th>\n",
       "      <th>ms_groups</th>\n",
       "      <th>ms_err</th>\n",
       "      <th>f_stat</th>\n",
       "      <th>p_value</th>\n",
       "    </tr>\n",
       "  </thead>\n",
       "  <tbody>\n",
       "    <tr>\n",
       "      <th>0</th>\n",
       "      <td>cc_nmda</td>\n",
       "      <td>3.0</td>\n",
       "      <td>64.0</td>\n",
       "      <td>2.877577</td>\n",
       "      <td>33.591824</td>\n",
       "      <td>0.959192</td>\n",
       "      <td>0.524872</td>\n",
       "      <td>1.827478</td>\n",
       "      <td>0.151053</td>\n",
       "    </tr>\n",
       "  </tbody>\n",
       "</table>"
      ],
      "text/plain": [
       "<IPython.core.display.HTML object>"
      ]
     },
     "metadata": {},
     "output_type": "display_data"
    },
    {
     "data": {
      "text/html": [
       "<h4> One-Way ANOVA Results: cc_pchange"
      ],
      "text/plain": [
       "<IPython.core.display.HTML object>"
      ]
     },
     "metadata": {},
     "output_type": "display_data"
    },
    {
     "data": {
      "text/html": [
       "<table border=\"1\" class=\"dataframe\">\n",
       "  <thead>\n",
       "    <tr style=\"text-align: right;\">\n",
       "      <th></th>\n",
       "      <th>measure</th>\n",
       "      <th>df_group</th>\n",
       "      <th>df_err</th>\n",
       "      <th>ss_groups</th>\n",
       "      <th>ss_err</th>\n",
       "      <th>ms_groups</th>\n",
       "      <th>ms_err</th>\n",
       "      <th>f_stat</th>\n",
       "      <th>p_value</th>\n",
       "    </tr>\n",
       "  </thead>\n",
       "  <tbody>\n",
       "    <tr>\n",
       "      <th>0</th>\n",
       "      <td>cc_pchange</td>\n",
       "      <td>3.0</td>\n",
       "      <td>64.0</td>\n",
       "      <td>169403.856105</td>\n",
       "      <td>2.236488e+06</td>\n",
       "      <td>56467.952035</td>\n",
       "      <td>34945.12439</td>\n",
       "      <td>1.615904</td>\n",
       "      <td>0.194394</td>\n",
       "    </tr>\n",
       "  </tbody>\n",
       "</table>"
      ],
      "text/plain": [
       "<IPython.core.display.HTML object>"
      ]
     },
     "metadata": {},
     "output_type": "display_data"
    },
    {
     "data": {
      "text/html": [
       "<h4> One-Way ANOVA Results: gj"
      ],
      "text/plain": [
       "<IPython.core.display.HTML object>"
      ]
     },
     "metadata": {},
     "output_type": "display_data"
    },
    {
     "data": {
      "text/html": [
       "<table border=\"1\" class=\"dataframe\">\n",
       "  <thead>\n",
       "    <tr style=\"text-align: right;\">\n",
       "      <th></th>\n",
       "      <th>measure</th>\n",
       "      <th>df_group</th>\n",
       "      <th>df_err</th>\n",
       "      <th>ss_groups</th>\n",
       "      <th>ss_err</th>\n",
       "      <th>ms_groups</th>\n",
       "      <th>ms_err</th>\n",
       "      <th>f_stat</th>\n",
       "      <th>p_value</th>\n",
       "    </tr>\n",
       "  </thead>\n",
       "  <tbody>\n",
       "    <tr>\n",
       "      <th>0</th>\n",
       "      <td>gj</td>\n",
       "      <td>3.0</td>\n",
       "      <td>82.0</td>\n",
       "      <td>42646.087054</td>\n",
       "      <td>257283.246771</td>\n",
       "      <td>14215.362351</td>\n",
       "      <td>3137.60057</td>\n",
       "      <td>4.530648</td>\n",
       "      <td>0.005454</td>\n",
       "    </tr>\n",
       "  </tbody>\n",
       "</table>"
      ],
      "text/plain": [
       "<IPython.core.display.HTML object>"
      ]
     },
     "metadata": {},
     "output_type": "display_data"
    },
    {
     "data": {
      "text/html": [
       "<h4> One-Way ANOVA Results: gj_nmda"
      ],
      "text/plain": [
       "<IPython.core.display.HTML object>"
      ]
     },
     "metadata": {},
     "output_type": "display_data"
    },
    {
     "data": {
      "text/html": [
       "<table border=\"1\" class=\"dataframe\">\n",
       "  <thead>\n",
       "    <tr style=\"text-align: right;\">\n",
       "      <th></th>\n",
       "      <th>measure</th>\n",
       "      <th>df_group</th>\n",
       "      <th>df_err</th>\n",
       "      <th>ss_groups</th>\n",
       "      <th>ss_err</th>\n",
       "      <th>ms_groups</th>\n",
       "      <th>ms_err</th>\n",
       "      <th>f_stat</th>\n",
       "      <th>p_value</th>\n",
       "    </tr>\n",
       "  </thead>\n",
       "  <tbody>\n",
       "    <tr>\n",
       "      <th>0</th>\n",
       "      <td>gj_nmda</td>\n",
       "      <td>3.0</td>\n",
       "      <td>64.0</td>\n",
       "      <td>44912.491768</td>\n",
       "      <td>257204.866481</td>\n",
       "      <td>14970.830589</td>\n",
       "      <td>4018.826039</td>\n",
       "      <td>3.725175</td>\n",
       "      <td>0.015603</td>\n",
       "    </tr>\n",
       "  </tbody>\n",
       "</table>"
      ],
      "text/plain": [
       "<IPython.core.display.HTML object>"
      ]
     },
     "metadata": {},
     "output_type": "display_data"
    },
    {
     "data": {
      "text/html": [
       "<h4> One-Way ANOVA Results: gj_pchange"
      ],
      "text/plain": [
       "<IPython.core.display.HTML object>"
      ]
     },
     "metadata": {},
     "output_type": "display_data"
    },
    {
     "data": {
      "text/html": [
       "<table border=\"1\" class=\"dataframe\">\n",
       "  <thead>\n",
       "    <tr style=\"text-align: right;\">\n",
       "      <th></th>\n",
       "      <th>measure</th>\n",
       "      <th>df_group</th>\n",
       "      <th>df_err</th>\n",
       "      <th>ss_groups</th>\n",
       "      <th>ss_err</th>\n",
       "      <th>ms_groups</th>\n",
       "      <th>ms_err</th>\n",
       "      <th>f_stat</th>\n",
       "      <th>p_value</th>\n",
       "    </tr>\n",
       "  </thead>\n",
       "  <tbody>\n",
       "    <tr>\n",
       "      <th>0</th>\n",
       "      <td>gj_pchange</td>\n",
       "      <td>3.0</td>\n",
       "      <td>64.0</td>\n",
       "      <td>232027.222359</td>\n",
       "      <td>4.041551e+06</td>\n",
       "      <td>77342.407453</td>\n",
       "      <td>63149.237993</td>\n",
       "      <td>1.224756</td>\n",
       "      <td>0.307988</td>\n",
       "    </tr>\n",
       "  </tbody>\n",
       "</table>"
      ],
      "text/plain": [
       "<IPython.core.display.HTML object>"
      ]
     },
     "metadata": {},
     "output_type": "display_data"
    },
    {
     "data": {
      "text/html": [
       "<h4> One-Way ANOVA Results: vm"
      ],
      "text/plain": [
       "<IPython.core.display.HTML object>"
      ]
     },
     "metadata": {},
     "output_type": "display_data"
    },
    {
     "data": {
      "text/html": [
       "<table border=\"1\" class=\"dataframe\">\n",
       "  <thead>\n",
       "    <tr style=\"text-align: right;\">\n",
       "      <th></th>\n",
       "      <th>measure</th>\n",
       "      <th>df_group</th>\n",
       "      <th>df_err</th>\n",
       "      <th>ss_groups</th>\n",
       "      <th>ss_err</th>\n",
       "      <th>ms_groups</th>\n",
       "      <th>ms_err</th>\n",
       "      <th>f_stat</th>\n",
       "      <th>p_value</th>\n",
       "    </tr>\n",
       "  </thead>\n",
       "  <tbody>\n",
       "    <tr>\n",
       "      <th>0</th>\n",
       "      <td>vm</td>\n",
       "      <td>3.0</td>\n",
       "      <td>82.0</td>\n",
       "      <td>51.450197</td>\n",
       "      <td>3645.797634</td>\n",
       "      <td>17.150066</td>\n",
       "      <td>44.460947</td>\n",
       "      <td>0.385733</td>\n",
       "      <td>0.763558</td>\n",
       "    </tr>\n",
       "  </tbody>\n",
       "</table>"
      ],
      "text/plain": [
       "<IPython.core.display.HTML object>"
      ]
     },
     "metadata": {},
     "output_type": "display_data"
    },
    {
     "data": {
      "text/html": [
       "<h4> One-Way ANOVA Results: vm_nmda"
      ],
      "text/plain": [
       "<IPython.core.display.HTML object>"
      ]
     },
     "metadata": {},
     "output_type": "display_data"
    },
    {
     "data": {
      "text/html": [
       "<table border=\"1\" class=\"dataframe\">\n",
       "  <thead>\n",
       "    <tr style=\"text-align: right;\">\n",
       "      <th></th>\n",
       "      <th>measure</th>\n",
       "      <th>df_group</th>\n",
       "      <th>df_err</th>\n",
       "      <th>ss_groups</th>\n",
       "      <th>ss_err</th>\n",
       "      <th>ms_groups</th>\n",
       "      <th>ms_err</th>\n",
       "      <th>f_stat</th>\n",
       "      <th>p_value</th>\n",
       "    </tr>\n",
       "  </thead>\n",
       "  <tbody>\n",
       "    <tr>\n",
       "      <th>0</th>\n",
       "      <td>vm_nmda</td>\n",
       "      <td>3.0</td>\n",
       "      <td>64.0</td>\n",
       "      <td>769.644387</td>\n",
       "      <td>11360.047436</td>\n",
       "      <td>256.548129</td>\n",
       "      <td>177.500741</td>\n",
       "      <td>1.445336</td>\n",
       "      <td>0.237891</td>\n",
       "    </tr>\n",
       "  </tbody>\n",
       "</table>"
      ],
      "text/plain": [
       "<IPython.core.display.HTML object>"
      ]
     },
     "metadata": {},
     "output_type": "display_data"
    },
    {
     "data": {
      "text/html": [
       "<h4> One-Way ANOVA Results: rin"
      ],
      "text/plain": [
       "<IPython.core.display.HTML object>"
      ]
     },
     "metadata": {},
     "output_type": "display_data"
    },
    {
     "data": {
      "text/html": [
       "<table border=\"1\" class=\"dataframe\">\n",
       "  <thead>\n",
       "    <tr style=\"text-align: right;\">\n",
       "      <th></th>\n",
       "      <th>measure</th>\n",
       "      <th>df_group</th>\n",
       "      <th>df_err</th>\n",
       "      <th>ss_groups</th>\n",
       "      <th>ss_err</th>\n",
       "      <th>ms_groups</th>\n",
       "      <th>ms_err</th>\n",
       "      <th>f_stat</th>\n",
       "      <th>p_value</th>\n",
       "    </tr>\n",
       "  </thead>\n",
       "  <tbody>\n",
       "    <tr>\n",
       "      <th>0</th>\n",
       "      <td>rin</td>\n",
       "      <td>3.0</td>\n",
       "      <td>82.0</td>\n",
       "      <td>54526.578506</td>\n",
       "      <td>1.397999e+06</td>\n",
       "      <td>18175.526169</td>\n",
       "      <td>17048.763751</td>\n",
       "      <td>1.066091</td>\n",
       "      <td>0.368127</td>\n",
       "    </tr>\n",
       "  </tbody>\n",
       "</table>"
      ],
      "text/plain": [
       "<IPython.core.display.HTML object>"
      ]
     },
     "metadata": {},
     "output_type": "display_data"
    },
    {
     "data": {
      "text/html": [
       "<h4> One-Way ANOVA Results: rin_nmda"
      ],
      "text/plain": [
       "<IPython.core.display.HTML object>"
      ]
     },
     "metadata": {},
     "output_type": "display_data"
    },
    {
     "data": {
      "text/html": [
       "<table border=\"1\" class=\"dataframe\">\n",
       "  <thead>\n",
       "    <tr style=\"text-align: right;\">\n",
       "      <th></th>\n",
       "      <th>measure</th>\n",
       "      <th>df_group</th>\n",
       "      <th>df_err</th>\n",
       "      <th>ss_groups</th>\n",
       "      <th>ss_err</th>\n",
       "      <th>ms_groups</th>\n",
       "      <th>ms_err</th>\n",
       "      <th>f_stat</th>\n",
       "      <th>p_value</th>\n",
       "    </tr>\n",
       "  </thead>\n",
       "  <tbody>\n",
       "    <tr>\n",
       "      <th>0</th>\n",
       "      <td>rin_nmda</td>\n",
       "      <td>3.0</td>\n",
       "      <td>64.0</td>\n",
       "      <td>102934.784362</td>\n",
       "      <td>845069.557246</td>\n",
       "      <td>34311.594787</td>\n",
       "      <td>13204.211832</td>\n",
       "      <td>2.598534</td>\n",
       "      <td>0.059844</td>\n",
       "    </tr>\n",
       "  </tbody>\n",
       "</table>"
      ],
      "text/plain": [
       "<IPython.core.display.HTML object>"
      ]
     },
     "metadata": {},
     "output_type": "display_data"
    }
   ],
   "source": [
    "def get_anova (dep_var, label, df_anovas):\n",
    "    \"\"\"User passes the the dependent variable and measurement label. \n",
    "    The function calculates the linear model, summarizes the data, \n",
    "    then performs an anova. Output is saved as a .csv spreadsheet in\n",
    "    the working directory.\"\"\"\n",
    "    df_anova = pd.DataFrame()\n",
    "    display(HTML('<h4> One-Way ANOVA Results: ' + label))\n",
    "    ro.globalenv['dep_var'] = dep_var\n",
    "    lm_x = stats.lm(\"dep_var ~ strain\")\n",
    "    lm_summary = base.summary(lm_x)\n",
    "    anova_results = stats.anova(lm_x)\n",
    "    anova_summary = base.summary(anova_results)\n",
    "    \n",
    "    # Parse the chaotic output of lm() and anova() into a pandas dataframe\n",
    "    df_groups = int(anova_results[0][0])\n",
    "    df_err = int(anova_results[0][1])\n",
    "    ss_groups = float(anova_results[1][0])\n",
    "    ss_err = float(anova_results[1][1])\n",
    "    ms_groups = float(anova_results[2][0])\n",
    "    ms_err = float(anova_results[2][1])\n",
    "    f_stat = float(anova_results[3][0])    \n",
    "    p_value = float(anova_results[4][0])\n",
    "    row = {'measure': label, 'df_group': df_groups, 'ss_groups': ss_groups, \n",
    "            'ss_err':ss_err, 'ms_groups': ms_groups, 'ms_err': ms_err, \n",
    "            'df_err': df_err, 'f_stat': f_stat, 'p_value': p_value}\n",
    "    df_anova = df_anova.append(row, ignore_index = True)\n",
    "    df_anova = df_anova[['measure', 'df_group', 'df_err', 'ss_groups',\n",
    "                       'ss_err', 'ms_groups', 'ms_err','f_stat', 'p_value']]\n",
    "    display(HTML(df_anova.to_html())) # Display the results in a table\n",
    "    df_anovas = df_anovas.append(df_anova)\n",
    "    return df_anovas\n",
    "\n",
    "# Cycle through the measurements and perform one way anova on each \n",
    "# with strain as the ind. var\n",
    "df_anovas = pd.DataFrame()\n",
    "i = 0\n",
    "while i < len(analyze):\n",
    "    df_anovas = get_anova(analyze[i], labels[i], df_anovas)\n",
    "    i = i + 1   \n",
    "save_csv (df_anovas, exp_name + '_one_way_anova.csv' ) # Save the dataframe to a csv spreadsheet\n",
    "\n"
   ]
  },
  {
   "cell_type": "markdown",
   "metadata": {},
   "source": [
    "### Dunnett Pairwise Comparisons with Strain as Factor"
   ]
  },
  {
   "cell_type": "code",
   "execution_count": 6,
   "metadata": {
    "scrolled": false
   },
   "outputs": [
    {
     "data": {
      "text/html": [
       "<h4>Dunnett Planned Comparisons: cc"
      ],
      "text/plain": [
       "<IPython.core.display.HTML object>"
      ]
     },
     "metadata": {},
     "output_type": "display_data"
    },
    {
     "data": {
      "text/html": [
       "<table border=\"1\" class=\"dataframe\">\n",
       "  <thead>\n",
       "    <tr style=\"text-align: right;\">\n",
       "      <th></th>\n",
       "      <th>measurement</th>\n",
       "      <th>group1</th>\n",
       "      <th>group2</th>\n",
       "      <th>diff</th>\n",
       "      <th>lwr_ci</th>\n",
       "      <th>upr_ci</th>\n",
       "      <th>p_val</th>\n",
       "    </tr>\n",
       "  </thead>\n",
       "  <tbody>\n",
       "    <tr>\n",
       "      <th>0</th>\n",
       "      <td>cc</td>\n",
       "      <td>group2</td>\n",
       "      <td>group1</td>\n",
       "      <td>-0.457058</td>\n",
       "      <td>-0.938514</td>\n",
       "      <td>0.024397</td>\n",
       "      <td>0.067098</td>\n",
       "    </tr>\n",
       "    <tr>\n",
       "      <th>1</th>\n",
       "      <td>cc</td>\n",
       "      <td>group3</td>\n",
       "      <td>group1</td>\n",
       "      <td>-0.551472</td>\n",
       "      <td>-1.099086</td>\n",
       "      <td>-0.003858</td>\n",
       "      <td>0.047869</td>\n",
       "    </tr>\n",
       "    <tr>\n",
       "      <th>2</th>\n",
       "      <td>cc</td>\n",
       "      <td>group4</td>\n",
       "      <td>group1</td>\n",
       "      <td>-0.580431</td>\n",
       "      <td>-1.019249</td>\n",
       "      <td>-0.141614</td>\n",
       "      <td>0.006067</td>\n",
       "    </tr>\n",
       "  </tbody>\n",
       "</table>"
      ],
      "text/plain": [
       "<IPython.core.display.HTML object>"
      ]
     },
     "metadata": {},
     "output_type": "display_data"
    },
    {
     "data": {
      "text/html": [
       "<h4>Dunnett Planned Comparisons: cc_nmda"
      ],
      "text/plain": [
       "<IPython.core.display.HTML object>"
      ]
     },
     "metadata": {},
     "output_type": "display_data"
    },
    {
     "data": {
      "text/html": [
       "<table border=\"1\" class=\"dataframe\">\n",
       "  <thead>\n",
       "    <tr style=\"text-align: right;\">\n",
       "      <th></th>\n",
       "      <th>measurement</th>\n",
       "      <th>group1</th>\n",
       "      <th>group2</th>\n",
       "      <th>diff</th>\n",
       "      <th>lwr_ci</th>\n",
       "      <th>upr_ci</th>\n",
       "      <th>p_val</th>\n",
       "    </tr>\n",
       "  </thead>\n",
       "  <tbody>\n",
       "    <tr>\n",
       "      <th>0</th>\n",
       "      <td>cc_nmda</td>\n",
       "      <td>group2</td>\n",
       "      <td>group1</td>\n",
       "      <td>-0.333350</td>\n",
       "      <td>-0.900428</td>\n",
       "      <td>0.233728</td>\n",
       "      <td>0.371943</td>\n",
       "    </tr>\n",
       "    <tr>\n",
       "      <th>1</th>\n",
       "      <td>cc_nmda</td>\n",
       "      <td>group3</td>\n",
       "      <td>group1</td>\n",
       "      <td>-0.421336</td>\n",
       "      <td>-1.146356</td>\n",
       "      <td>0.303685</td>\n",
       "      <td>0.381277</td>\n",
       "    </tr>\n",
       "    <tr>\n",
       "      <th>2</th>\n",
       "      <td>cc_nmda</td>\n",
       "      <td>group4</td>\n",
       "      <td>group1</td>\n",
       "      <td>-0.492271</td>\n",
       "      <td>-1.028017</td>\n",
       "      <td>0.043475</td>\n",
       "      <td>0.079395</td>\n",
       "    </tr>\n",
       "  </tbody>\n",
       "</table>"
      ],
      "text/plain": [
       "<IPython.core.display.HTML object>"
      ]
     },
     "metadata": {},
     "output_type": "display_data"
    },
    {
     "data": {
      "text/html": [
       "<h4>Dunnett Planned Comparisons: cc_pchange"
      ],
      "text/plain": [
       "<IPython.core.display.HTML object>"
      ]
     },
     "metadata": {},
     "output_type": "display_data"
    },
    {
     "data": {
      "text/html": [
       "<table border=\"1\" class=\"dataframe\">\n",
       "  <thead>\n",
       "    <tr style=\"text-align: right;\">\n",
       "      <th></th>\n",
       "      <th>measurement</th>\n",
       "      <th>group1</th>\n",
       "      <th>group2</th>\n",
       "      <th>diff</th>\n",
       "      <th>lwr_ci</th>\n",
       "      <th>upr_ci</th>\n",
       "      <th>p_val</th>\n",
       "    </tr>\n",
       "  </thead>\n",
       "  <tbody>\n",
       "    <tr>\n",
       "      <th>0</th>\n",
       "      <td>cc_pchange</td>\n",
       "      <td>group2</td>\n",
       "      <td>group1</td>\n",
       "      <td>83.586310</td>\n",
       "      <td>-62.735474</td>\n",
       "      <td>229.908094</td>\n",
       "      <td>0.395480</td>\n",
       "    </tr>\n",
       "    <tr>\n",
       "      <th>1</th>\n",
       "      <td>cc_pchange</td>\n",
       "      <td>group3</td>\n",
       "      <td>group1</td>\n",
       "      <td>57.843295</td>\n",
       "      <td>-129.232146</td>\n",
       "      <td>244.918737</td>\n",
       "      <td>0.811985</td>\n",
       "    </tr>\n",
       "    <tr>\n",
       "      <th>2</th>\n",
       "      <td>cc_pchange</td>\n",
       "      <td>group4</td>\n",
       "      <td>group1</td>\n",
       "      <td>-42.658788</td>\n",
       "      <td>-180.896241</td>\n",
       "      <td>95.578666</td>\n",
       "      <td>0.812868</td>\n",
       "    </tr>\n",
       "  </tbody>\n",
       "</table>"
      ],
      "text/plain": [
       "<IPython.core.display.HTML object>"
      ]
     },
     "metadata": {},
     "output_type": "display_data"
    },
    {
     "data": {
      "text/html": [
       "<h4>Dunnett Planned Comparisons: gj"
      ],
      "text/plain": [
       "<IPython.core.display.HTML object>"
      ]
     },
     "metadata": {},
     "output_type": "display_data"
    },
    {
     "data": {
      "text/html": [
       "<table border=\"1\" class=\"dataframe\">\n",
       "  <thead>\n",
       "    <tr style=\"text-align: right;\">\n",
       "      <th></th>\n",
       "      <th>measurement</th>\n",
       "      <th>group1</th>\n",
       "      <th>group2</th>\n",
       "      <th>diff</th>\n",
       "      <th>lwr_ci</th>\n",
       "      <th>upr_ci</th>\n",
       "      <th>p_val</th>\n",
       "    </tr>\n",
       "  </thead>\n",
       "  <tbody>\n",
       "    <tr>\n",
       "      <th>0</th>\n",
       "      <td>gj</td>\n",
       "      <td>group2</td>\n",
       "      <td>group1</td>\n",
       "      <td>-50.517694</td>\n",
       "      <td>-91.261204</td>\n",
       "      <td>-9.774184</td>\n",
       "      <td>0.010890</td>\n",
       "    </tr>\n",
       "    <tr>\n",
       "      <th>1</th>\n",
       "      <td>gj</td>\n",
       "      <td>group3</td>\n",
       "      <td>group1</td>\n",
       "      <td>-48.021830</td>\n",
       "      <td>-94.363992</td>\n",
       "      <td>-1.679669</td>\n",
       "      <td>0.040198</td>\n",
       "    </tr>\n",
       "    <tr>\n",
       "      <th>2</th>\n",
       "      <td>gj</td>\n",
       "      <td>group4</td>\n",
       "      <td>group1</td>\n",
       "      <td>-49.711964</td>\n",
       "      <td>-86.847187</td>\n",
       "      <td>-12.576741</td>\n",
       "      <td>0.005408</td>\n",
       "    </tr>\n",
       "  </tbody>\n",
       "</table>"
      ],
      "text/plain": [
       "<IPython.core.display.HTML object>"
      ]
     },
     "metadata": {},
     "output_type": "display_data"
    },
    {
     "data": {
      "text/html": [
       "<h4>Dunnett Planned Comparisons: gj_nmda"
      ],
      "text/plain": [
       "<IPython.core.display.HTML object>"
      ]
     },
     "metadata": {},
     "output_type": "display_data"
    },
    {
     "data": {
      "text/html": [
       "<table border=\"1\" class=\"dataframe\">\n",
       "  <thead>\n",
       "    <tr style=\"text-align: right;\">\n",
       "      <th></th>\n",
       "      <th>measurement</th>\n",
       "      <th>group1</th>\n",
       "      <th>group2</th>\n",
       "      <th>diff</th>\n",
       "      <th>lwr_ci</th>\n",
       "      <th>upr_ci</th>\n",
       "      <th>p_val</th>\n",
       "    </tr>\n",
       "  </thead>\n",
       "  <tbody>\n",
       "    <tr>\n",
       "      <th>0</th>\n",
       "      <td>gj_nmda</td>\n",
       "      <td>group2</td>\n",
       "      <td>group1</td>\n",
       "      <td>-49.539072</td>\n",
       "      <td>-99.160048</td>\n",
       "      <td>0.081903</td>\n",
       "      <td>0.050657</td>\n",
       "    </tr>\n",
       "    <tr>\n",
       "      <th>1</th>\n",
       "      <td>gj_nmda</td>\n",
       "      <td>group3</td>\n",
       "      <td>group1</td>\n",
       "      <td>-40.742116</td>\n",
       "      <td>-104.183564</td>\n",
       "      <td>22.699332</td>\n",
       "      <td>0.300555</td>\n",
       "    </tr>\n",
       "    <tr>\n",
       "      <th>2</th>\n",
       "      <td>gj_nmda</td>\n",
       "      <td>group4</td>\n",
       "      <td>group1</td>\n",
       "      <td>-60.980361</td>\n",
       "      <td>-107.859760</td>\n",
       "      <td>-14.100962</td>\n",
       "      <td>0.007156</td>\n",
       "    </tr>\n",
       "  </tbody>\n",
       "</table>"
      ],
      "text/plain": [
       "<IPython.core.display.HTML object>"
      ]
     },
     "metadata": {},
     "output_type": "display_data"
    },
    {
     "data": {
      "text/html": [
       "<h4>Dunnett Planned Comparisons: gj_pchange"
      ],
      "text/plain": [
       "<IPython.core.display.HTML object>"
      ]
     },
     "metadata": {},
     "output_type": "display_data"
    },
    {
     "data": {
      "text/html": [
       "<table border=\"1\" class=\"dataframe\">\n",
       "  <thead>\n",
       "    <tr style=\"text-align: right;\">\n",
       "      <th></th>\n",
       "      <th>measurement</th>\n",
       "      <th>group1</th>\n",
       "      <th>group2</th>\n",
       "      <th>diff</th>\n",
       "      <th>lwr_ci</th>\n",
       "      <th>upr_ci</th>\n",
       "      <th>p_val</th>\n",
       "    </tr>\n",
       "  </thead>\n",
       "  <tbody>\n",
       "    <tr>\n",
       "      <th>0</th>\n",
       "      <td>gj_pchange</td>\n",
       "      <td>group2</td>\n",
       "      <td>group1</td>\n",
       "      <td>49.017647</td>\n",
       "      <td>-147.680265</td>\n",
       "      <td>245.715559</td>\n",
       "      <td>0.889275</td>\n",
       "    </tr>\n",
       "    <tr>\n",
       "      <th>1</th>\n",
       "      <td>gj_pchange</td>\n",
       "      <td>group3</td>\n",
       "      <td>group1</td>\n",
       "      <td>47.380000</td>\n",
       "      <td>-204.102368</td>\n",
       "      <td>298.862368</td>\n",
       "      <td>0.947254</td>\n",
       "    </tr>\n",
       "    <tr>\n",
       "      <th>2</th>\n",
       "      <td>gj_pchange</td>\n",
       "      <td>group4</td>\n",
       "      <td>group1</td>\n",
       "      <td>-92.901429</td>\n",
       "      <td>-278.731711</td>\n",
       "      <td>92.928854</td>\n",
       "      <td>0.504735</td>\n",
       "    </tr>\n",
       "  </tbody>\n",
       "</table>"
      ],
      "text/plain": [
       "<IPython.core.display.HTML object>"
      ]
     },
     "metadata": {},
     "output_type": "display_data"
    },
    {
     "data": {
      "text/html": [
       "<h4>Dunnett Planned Comparisons: vm"
      ],
      "text/plain": [
       "<IPython.core.display.HTML object>"
      ]
     },
     "metadata": {},
     "output_type": "display_data"
    },
    {
     "data": {
      "text/html": [
       "<table border=\"1\" class=\"dataframe\">\n",
       "  <thead>\n",
       "    <tr style=\"text-align: right;\">\n",
       "      <th></th>\n",
       "      <th>measurement</th>\n",
       "      <th>group1</th>\n",
       "      <th>group2</th>\n",
       "      <th>diff</th>\n",
       "      <th>lwr_ci</th>\n",
       "      <th>upr_ci</th>\n",
       "      <th>p_val</th>\n",
       "    </tr>\n",
       "  </thead>\n",
       "  <tbody>\n",
       "    <tr>\n",
       "      <th>0</th>\n",
       "      <td>vm</td>\n",
       "      <td>group2</td>\n",
       "      <td>group1</td>\n",
       "      <td>-0.552567</td>\n",
       "      <td>-5.402648</td>\n",
       "      <td>4.297513</td>\n",
       "      <td>0.986847</td>\n",
       "    </tr>\n",
       "    <tr>\n",
       "      <th>1</th>\n",
       "      <td>vm</td>\n",
       "      <td>group3</td>\n",
       "      <td>group1</td>\n",
       "      <td>0.856314</td>\n",
       "      <td>-4.660226</td>\n",
       "      <td>6.372855</td>\n",
       "      <td>0.968201</td>\n",
       "    </tr>\n",
       "    <tr>\n",
       "      <th>2</th>\n",
       "      <td>vm</td>\n",
       "      <td>group4</td>\n",
       "      <td>group1</td>\n",
       "      <td>1.366382</td>\n",
       "      <td>-3.054170</td>\n",
       "      <td>5.786935</td>\n",
       "      <td>0.808018</td>\n",
       "    </tr>\n",
       "  </tbody>\n",
       "</table>"
      ],
      "text/plain": [
       "<IPython.core.display.HTML object>"
      ]
     },
     "metadata": {},
     "output_type": "display_data"
    },
    {
     "data": {
      "text/html": [
       "<h4>Dunnett Planned Comparisons: vm_nmda"
      ],
      "text/plain": [
       "<IPython.core.display.HTML object>"
      ]
     },
     "metadata": {},
     "output_type": "display_data"
    },
    {
     "data": {
      "text/html": [
       "<table border=\"1\" class=\"dataframe\">\n",
       "  <thead>\n",
       "    <tr style=\"text-align: right;\">\n",
       "      <th></th>\n",
       "      <th>measurement</th>\n",
       "      <th>group1</th>\n",
       "      <th>group2</th>\n",
       "      <th>diff</th>\n",
       "      <th>lwr_ci</th>\n",
       "      <th>upr_ci</th>\n",
       "      <th>p_val</th>\n",
       "    </tr>\n",
       "  </thead>\n",
       "  <tbody>\n",
       "    <tr>\n",
       "      <th>0</th>\n",
       "      <td>vm_nmda</td>\n",
       "      <td>group2</td>\n",
       "      <td>group1</td>\n",
       "      <td>-6.773946</td>\n",
       "      <td>-17.202301</td>\n",
       "      <td>3.654408</td>\n",
       "      <td>0.291744</td>\n",
       "    </tr>\n",
       "    <tr>\n",
       "      <th>1</th>\n",
       "      <td>vm_nmda</td>\n",
       "      <td>group3</td>\n",
       "      <td>group1</td>\n",
       "      <td>0.243952</td>\n",
       "      <td>-13.088915</td>\n",
       "      <td>13.576820</td>\n",
       "      <td>0.999945</td>\n",
       "    </tr>\n",
       "    <tr>\n",
       "      <th>2</th>\n",
       "      <td>vm_nmda</td>\n",
       "      <td>group4</td>\n",
       "      <td>group1</td>\n",
       "      <td>1.838115</td>\n",
       "      <td>-8.014069</td>\n",
       "      <td>11.690299</td>\n",
       "      <td>0.948651</td>\n",
       "    </tr>\n",
       "  </tbody>\n",
       "</table>"
      ],
      "text/plain": [
       "<IPython.core.display.HTML object>"
      ]
     },
     "metadata": {},
     "output_type": "display_data"
    },
    {
     "data": {
      "text/html": [
       "<h4>Dunnett Planned Comparisons: rin"
      ],
      "text/plain": [
       "<IPython.core.display.HTML object>"
      ]
     },
     "metadata": {},
     "output_type": "display_data"
    },
    {
     "data": {
      "text/html": [
       "<table border=\"1\" class=\"dataframe\">\n",
       "  <thead>\n",
       "    <tr style=\"text-align: right;\">\n",
       "      <th></th>\n",
       "      <th>measurement</th>\n",
       "      <th>group1</th>\n",
       "      <th>group2</th>\n",
       "      <th>diff</th>\n",
       "      <th>lwr_ci</th>\n",
       "      <th>upr_ci</th>\n",
       "      <th>p_val</th>\n",
       "    </tr>\n",
       "  </thead>\n",
       "  <tbody>\n",
       "    <tr>\n",
       "      <th>0</th>\n",
       "      <td>rin</td>\n",
       "      <td>group2</td>\n",
       "      <td>group1</td>\n",
       "      <td>-14.791205</td>\n",
       "      <td>-109.765496</td>\n",
       "      <td>80.183086</td>\n",
       "      <td>0.967896</td>\n",
       "    </tr>\n",
       "    <tr>\n",
       "      <th>1</th>\n",
       "      <td>rin</td>\n",
       "      <td>group3</td>\n",
       "      <td>group1</td>\n",
       "      <td>-13.117876</td>\n",
       "      <td>-121.142784</td>\n",
       "      <td>94.907032</td>\n",
       "      <td>0.984192</td>\n",
       "    </tr>\n",
       "    <tr>\n",
       "      <th>2</th>\n",
       "      <td>rin</td>\n",
       "      <td>group4</td>\n",
       "      <td>group1</td>\n",
       "      <td>43.696177</td>\n",
       "      <td>-42.867093</td>\n",
       "      <td>130.259447</td>\n",
       "      <td>0.492501</td>\n",
       "    </tr>\n",
       "  </tbody>\n",
       "</table>"
      ],
      "text/plain": [
       "<IPython.core.display.HTML object>"
      ]
     },
     "metadata": {},
     "output_type": "display_data"
    }
   ],
   "source": [
    " def get_dunnett(dep_var, label):\n",
    "        \"\"\"User passes the the dependent variable and measurement label. \n",
    "        The function performs planned comparisons using the Dunnett test \n",
    "        and summarizes the data. Output is saved as a .csv spreadsheet in\n",
    "        the working directory.\"\"\"\n",
    "        \n",
    "        df_dun = pd.DataFrame()\n",
    "        display(HTML('<h4>Dunnett Planned Comparisons: ' + label))\n",
    "        dunnett_results = dunnett(x = dep_var, g = strain, control = 'group1')\n",
    "        pairs = base.labels(dunnett_results[0])\n",
    "        calculations = base.labels(dunnett_results[0][1])\n",
    "        i = 0\n",
    "        for pair in pairs[0]:\n",
    "            groups = pair.split('-')\n",
    "            row = {'measurement': label,\n",
    "                   'group1': groups[0],\n",
    "                   'group2': groups[1],\n",
    "                   'diff': dunnett_results[0][i],\n",
    "                   'lwr_ci': dunnett_results[0][i+3],\n",
    "                   'upr_ci': dunnett_results[0][i+6],\n",
    "                   'p_val': dunnett_results[0][i+9]}\n",
    "            df_dun = df_dun.append(row, ignore_index = True)\n",
    "            i = i + 1\n",
    "        df_dun = df_dun[['measurement','group1', 'group2', 'diff', 'lwr_ci', 'upr_ci', 'p_val']]\n",
    "        display(HTML(df_dun.to_html()))\n",
    "\n",
    "# Cycle through the measurements and perform Dunnett planned comparisons on \n",
    "# each with strain as the ind. var      \n",
    "i = 0\n",
    "while i < len(analyze)-1:\n",
    "    get_dunnett(analyze[i], labels[i])\n",
    "    i = i + 1   \n"
   ]
  },
  {
   "cell_type": "markdown",
   "metadata": {},
   "source": [
    "### Tukey HSD Posthoc Comparisons"
   ]
  },
  {
   "cell_type": "code",
   "execution_count": 7,
   "metadata": {
    "scrolled": false
   },
   "outputs": [
    {
     "data": {
      "text/html": [
       "<h4> Tukey HSD: cc"
      ],
      "text/plain": [
       "<IPython.core.display.HTML object>"
      ]
     },
     "metadata": {},
     "output_type": "display_data"
    },
    {
     "data": {
      "text/html": [
       "<table border=\"1\" class=\"dataframe\">\n",
       "  <thead>\n",
       "    <tr style=\"text-align: right;\">\n",
       "      <th></th>\n",
       "      <th>group1</th>\n",
       "      <th>group2</th>\n",
       "      <th>diff</th>\n",
       "      <th>upr</th>\n",
       "      <th>lwr</th>\n",
       "      <th>p_adj</th>\n",
       "    </tr>\n",
       "  </thead>\n",
       "  <tbody>\n",
       "    <tr>\n",
       "      <th>0</th>\n",
       "      <td>group2</td>\n",
       "      <td>group1</td>\n",
       "      <td>13.013907</td>\n",
       "      <td>110.895488</td>\n",
       "      <td>-84.867674</td>\n",
       "      <td>0.985060</td>\n",
       "    </tr>\n",
       "    <tr>\n",
       "      <th>1</th>\n",
       "      <td>group3</td>\n",
       "      <td>group1</td>\n",
       "      <td>55.297498</td>\n",
       "      <td>180.441134</td>\n",
       "      <td>-69.846137</td>\n",
       "      <td>0.650532</td>\n",
       "    </tr>\n",
       "    <tr>\n",
       "      <th>2</th>\n",
       "      <td>group4</td>\n",
       "      <td>group1</td>\n",
       "      <td>90.628220</td>\n",
       "      <td>183.101809</td>\n",
       "      <td>-1.845369</td>\n",
       "      <td>0.056798</td>\n",
       "    </tr>\n",
       "    <tr>\n",
       "      <th>3</th>\n",
       "      <td>group3</td>\n",
       "      <td>group2</td>\n",
       "      <td>42.283591</td>\n",
       "      <td>172.242191</td>\n",
       "      <td>-87.675008</td>\n",
       "      <td>0.826184</td>\n",
       "    </tr>\n",
       "    <tr>\n",
       "      <th>4</th>\n",
       "      <td>group4</td>\n",
       "      <td>group2</td>\n",
       "      <td>77.614313</td>\n",
       "      <td>176.506541</td>\n",
       "      <td>-21.277915</td>\n",
       "      <td>0.173923</td>\n",
       "    </tr>\n",
       "    <tr>\n",
       "      <th>5</th>\n",
       "      <td>group4</td>\n",
       "      <td>group3</td>\n",
       "      <td>35.330722</td>\n",
       "      <td>161.266413</td>\n",
       "      <td>-90.604970</td>\n",
       "      <td>0.880541</td>\n",
       "    </tr>\n",
       "  </tbody>\n",
       "</table>"
      ],
      "text/plain": [
       "<IPython.core.display.HTML object>"
      ]
     },
     "metadata": {},
     "output_type": "display_data"
    },
    {
     "data": {
      "text/html": [
       "<h4> Tukey HSD: cc_nmda"
      ],
      "text/plain": [
       "<IPython.core.display.HTML object>"
      ]
     },
     "metadata": {},
     "output_type": "display_data"
    },
    {
     "data": {
      "text/html": [
       "<table border=\"1\" class=\"dataframe\">\n",
       "  <thead>\n",
       "    <tr style=\"text-align: right;\">\n",
       "      <th></th>\n",
       "      <th>group1</th>\n",
       "      <th>group2</th>\n",
       "      <th>diff</th>\n",
       "      <th>upr</th>\n",
       "      <th>lwr</th>\n",
       "      <th>p_adj</th>\n",
       "    </tr>\n",
       "  </thead>\n",
       "  <tbody>\n",
       "    <tr>\n",
       "      <th>0</th>\n",
       "      <td>group2</td>\n",
       "      <td>group1</td>\n",
       "      <td>13.013907</td>\n",
       "      <td>110.895488</td>\n",
       "      <td>-84.867674</td>\n",
       "      <td>0.985060</td>\n",
       "    </tr>\n",
       "    <tr>\n",
       "      <th>1</th>\n",
       "      <td>group3</td>\n",
       "      <td>group1</td>\n",
       "      <td>55.297498</td>\n",
       "      <td>180.441134</td>\n",
       "      <td>-69.846137</td>\n",
       "      <td>0.650532</td>\n",
       "    </tr>\n",
       "    <tr>\n",
       "      <th>2</th>\n",
       "      <td>group4</td>\n",
       "      <td>group1</td>\n",
       "      <td>90.628220</td>\n",
       "      <td>183.101809</td>\n",
       "      <td>-1.845369</td>\n",
       "      <td>0.056798</td>\n",
       "    </tr>\n",
       "    <tr>\n",
       "      <th>3</th>\n",
       "      <td>group3</td>\n",
       "      <td>group2</td>\n",
       "      <td>42.283591</td>\n",
       "      <td>172.242191</td>\n",
       "      <td>-87.675008</td>\n",
       "      <td>0.826184</td>\n",
       "    </tr>\n",
       "    <tr>\n",
       "      <th>4</th>\n",
       "      <td>group4</td>\n",
       "      <td>group2</td>\n",
       "      <td>77.614313</td>\n",
       "      <td>176.506541</td>\n",
       "      <td>-21.277915</td>\n",
       "      <td>0.173923</td>\n",
       "    </tr>\n",
       "    <tr>\n",
       "      <th>5</th>\n",
       "      <td>group4</td>\n",
       "      <td>group3</td>\n",
       "      <td>35.330722</td>\n",
       "      <td>161.266413</td>\n",
       "      <td>-90.604970</td>\n",
       "      <td>0.880541</td>\n",
       "    </tr>\n",
       "  </tbody>\n",
       "</table>"
      ],
      "text/plain": [
       "<IPython.core.display.HTML object>"
      ]
     },
     "metadata": {},
     "output_type": "display_data"
    },
    {
     "data": {
      "text/html": [
       "<h4> Tukey HSD: cc_pchange"
      ],
      "text/plain": [
       "<IPython.core.display.HTML object>"
      ]
     },
     "metadata": {},
     "output_type": "display_data"
    },
    {
     "data": {
      "text/html": [
       "<table border=\"1\" class=\"dataframe\">\n",
       "  <thead>\n",
       "    <tr style=\"text-align: right;\">\n",
       "      <th></th>\n",
       "      <th>group1</th>\n",
       "      <th>group2</th>\n",
       "      <th>diff</th>\n",
       "      <th>upr</th>\n",
       "      <th>lwr</th>\n",
       "      <th>p_adj</th>\n",
       "    </tr>\n",
       "  </thead>\n",
       "  <tbody>\n",
       "    <tr>\n",
       "      <th>0</th>\n",
       "      <td>group2</td>\n",
       "      <td>group1</td>\n",
       "      <td>13.013907</td>\n",
       "      <td>110.895488</td>\n",
       "      <td>-84.867674</td>\n",
       "      <td>0.985060</td>\n",
       "    </tr>\n",
       "    <tr>\n",
       "      <th>1</th>\n",
       "      <td>group3</td>\n",
       "      <td>group1</td>\n",
       "      <td>55.297498</td>\n",
       "      <td>180.441134</td>\n",
       "      <td>-69.846137</td>\n",
       "      <td>0.650532</td>\n",
       "    </tr>\n",
       "    <tr>\n",
       "      <th>2</th>\n",
       "      <td>group4</td>\n",
       "      <td>group1</td>\n",
       "      <td>90.628220</td>\n",
       "      <td>183.101809</td>\n",
       "      <td>-1.845369</td>\n",
       "      <td>0.056798</td>\n",
       "    </tr>\n",
       "    <tr>\n",
       "      <th>3</th>\n",
       "      <td>group3</td>\n",
       "      <td>group2</td>\n",
       "      <td>42.283591</td>\n",
       "      <td>172.242191</td>\n",
       "      <td>-87.675008</td>\n",
       "      <td>0.826184</td>\n",
       "    </tr>\n",
       "    <tr>\n",
       "      <th>4</th>\n",
       "      <td>group4</td>\n",
       "      <td>group2</td>\n",
       "      <td>77.614313</td>\n",
       "      <td>176.506541</td>\n",
       "      <td>-21.277915</td>\n",
       "      <td>0.173923</td>\n",
       "    </tr>\n",
       "    <tr>\n",
       "      <th>5</th>\n",
       "      <td>group4</td>\n",
       "      <td>group3</td>\n",
       "      <td>35.330722</td>\n",
       "      <td>161.266413</td>\n",
       "      <td>-90.604970</td>\n",
       "      <td>0.880541</td>\n",
       "    </tr>\n",
       "  </tbody>\n",
       "</table>"
      ],
      "text/plain": [
       "<IPython.core.display.HTML object>"
      ]
     },
     "metadata": {},
     "output_type": "display_data"
    },
    {
     "data": {
      "text/html": [
       "<h4> Tukey HSD: gj"
      ],
      "text/plain": [
       "<IPython.core.display.HTML object>"
      ]
     },
     "metadata": {},
     "output_type": "display_data"
    },
    {
     "data": {
      "text/html": [
       "<table border=\"1\" class=\"dataframe\">\n",
       "  <thead>\n",
       "    <tr style=\"text-align: right;\">\n",
       "      <th></th>\n",
       "      <th>group1</th>\n",
       "      <th>group2</th>\n",
       "      <th>diff</th>\n",
       "      <th>upr</th>\n",
       "      <th>lwr</th>\n",
       "      <th>p_adj</th>\n",
       "    </tr>\n",
       "  </thead>\n",
       "  <tbody>\n",
       "    <tr>\n",
       "      <th>0</th>\n",
       "      <td>group2</td>\n",
       "      <td>group1</td>\n",
       "      <td>13.013907</td>\n",
       "      <td>110.895488</td>\n",
       "      <td>-84.867674</td>\n",
       "      <td>0.985060</td>\n",
       "    </tr>\n",
       "    <tr>\n",
       "      <th>1</th>\n",
       "      <td>group3</td>\n",
       "      <td>group1</td>\n",
       "      <td>55.297498</td>\n",
       "      <td>180.441134</td>\n",
       "      <td>-69.846137</td>\n",
       "      <td>0.650532</td>\n",
       "    </tr>\n",
       "    <tr>\n",
       "      <th>2</th>\n",
       "      <td>group4</td>\n",
       "      <td>group1</td>\n",
       "      <td>90.628220</td>\n",
       "      <td>183.101809</td>\n",
       "      <td>-1.845369</td>\n",
       "      <td>0.056798</td>\n",
       "    </tr>\n",
       "    <tr>\n",
       "      <th>3</th>\n",
       "      <td>group3</td>\n",
       "      <td>group2</td>\n",
       "      <td>42.283591</td>\n",
       "      <td>172.242191</td>\n",
       "      <td>-87.675008</td>\n",
       "      <td>0.826184</td>\n",
       "    </tr>\n",
       "    <tr>\n",
       "      <th>4</th>\n",
       "      <td>group4</td>\n",
       "      <td>group2</td>\n",
       "      <td>77.614313</td>\n",
       "      <td>176.506541</td>\n",
       "      <td>-21.277915</td>\n",
       "      <td>0.173923</td>\n",
       "    </tr>\n",
       "    <tr>\n",
       "      <th>5</th>\n",
       "      <td>group4</td>\n",
       "      <td>group3</td>\n",
       "      <td>35.330722</td>\n",
       "      <td>161.266413</td>\n",
       "      <td>-90.604970</td>\n",
       "      <td>0.880541</td>\n",
       "    </tr>\n",
       "  </tbody>\n",
       "</table>"
      ],
      "text/plain": [
       "<IPython.core.display.HTML object>"
      ]
     },
     "metadata": {},
     "output_type": "display_data"
    },
    {
     "data": {
      "text/html": [
       "<h4> Tukey HSD: gj_nmda"
      ],
      "text/plain": [
       "<IPython.core.display.HTML object>"
      ]
     },
     "metadata": {},
     "output_type": "display_data"
    },
    {
     "data": {
      "text/html": [
       "<table border=\"1\" class=\"dataframe\">\n",
       "  <thead>\n",
       "    <tr style=\"text-align: right;\">\n",
       "      <th></th>\n",
       "      <th>group1</th>\n",
       "      <th>group2</th>\n",
       "      <th>diff</th>\n",
       "      <th>upr</th>\n",
       "      <th>lwr</th>\n",
       "      <th>p_adj</th>\n",
       "    </tr>\n",
       "  </thead>\n",
       "  <tbody>\n",
       "    <tr>\n",
       "      <th>0</th>\n",
       "      <td>group2</td>\n",
       "      <td>group1</td>\n",
       "      <td>13.013907</td>\n",
       "      <td>110.895488</td>\n",
       "      <td>-84.867674</td>\n",
       "      <td>0.985060</td>\n",
       "    </tr>\n",
       "    <tr>\n",
       "      <th>1</th>\n",
       "      <td>group3</td>\n",
       "      <td>group1</td>\n",
       "      <td>55.297498</td>\n",
       "      <td>180.441134</td>\n",
       "      <td>-69.846137</td>\n",
       "      <td>0.650532</td>\n",
       "    </tr>\n",
       "    <tr>\n",
       "      <th>2</th>\n",
       "      <td>group4</td>\n",
       "      <td>group1</td>\n",
       "      <td>90.628220</td>\n",
       "      <td>183.101809</td>\n",
       "      <td>-1.845369</td>\n",
       "      <td>0.056798</td>\n",
       "    </tr>\n",
       "    <tr>\n",
       "      <th>3</th>\n",
       "      <td>group3</td>\n",
       "      <td>group2</td>\n",
       "      <td>42.283591</td>\n",
       "      <td>172.242191</td>\n",
       "      <td>-87.675008</td>\n",
       "      <td>0.826184</td>\n",
       "    </tr>\n",
       "    <tr>\n",
       "      <th>4</th>\n",
       "      <td>group4</td>\n",
       "      <td>group2</td>\n",
       "      <td>77.614313</td>\n",
       "      <td>176.506541</td>\n",
       "      <td>-21.277915</td>\n",
       "      <td>0.173923</td>\n",
       "    </tr>\n",
       "    <tr>\n",
       "      <th>5</th>\n",
       "      <td>group4</td>\n",
       "      <td>group3</td>\n",
       "      <td>35.330722</td>\n",
       "      <td>161.266413</td>\n",
       "      <td>-90.604970</td>\n",
       "      <td>0.880541</td>\n",
       "    </tr>\n",
       "  </tbody>\n",
       "</table>"
      ],
      "text/plain": [
       "<IPython.core.display.HTML object>"
      ]
     },
     "metadata": {},
     "output_type": "display_data"
    },
    {
     "data": {
      "text/html": [
       "<h4> Tukey HSD: gj_pchange"
      ],
      "text/plain": [
       "<IPython.core.display.HTML object>"
      ]
     },
     "metadata": {},
     "output_type": "display_data"
    },
    {
     "data": {
      "text/html": [
       "<table border=\"1\" class=\"dataframe\">\n",
       "  <thead>\n",
       "    <tr style=\"text-align: right;\">\n",
       "      <th></th>\n",
       "      <th>group1</th>\n",
       "      <th>group2</th>\n",
       "      <th>diff</th>\n",
       "      <th>upr</th>\n",
       "      <th>lwr</th>\n",
       "      <th>p_adj</th>\n",
       "    </tr>\n",
       "  </thead>\n",
       "  <tbody>\n",
       "    <tr>\n",
       "      <th>0</th>\n",
       "      <td>group2</td>\n",
       "      <td>group1</td>\n",
       "      <td>13.013907</td>\n",
       "      <td>110.895488</td>\n",
       "      <td>-84.867674</td>\n",
       "      <td>0.985060</td>\n",
       "    </tr>\n",
       "    <tr>\n",
       "      <th>1</th>\n",
       "      <td>group3</td>\n",
       "      <td>group1</td>\n",
       "      <td>55.297498</td>\n",
       "      <td>180.441134</td>\n",
       "      <td>-69.846137</td>\n",
       "      <td>0.650532</td>\n",
       "    </tr>\n",
       "    <tr>\n",
       "      <th>2</th>\n",
       "      <td>group4</td>\n",
       "      <td>group1</td>\n",
       "      <td>90.628220</td>\n",
       "      <td>183.101809</td>\n",
       "      <td>-1.845369</td>\n",
       "      <td>0.056798</td>\n",
       "    </tr>\n",
       "    <tr>\n",
       "      <th>3</th>\n",
       "      <td>group3</td>\n",
       "      <td>group2</td>\n",
       "      <td>42.283591</td>\n",
       "      <td>172.242191</td>\n",
       "      <td>-87.675008</td>\n",
       "      <td>0.826184</td>\n",
       "    </tr>\n",
       "    <tr>\n",
       "      <th>4</th>\n",
       "      <td>group4</td>\n",
       "      <td>group2</td>\n",
       "      <td>77.614313</td>\n",
       "      <td>176.506541</td>\n",
       "      <td>-21.277915</td>\n",
       "      <td>0.173923</td>\n",
       "    </tr>\n",
       "    <tr>\n",
       "      <th>5</th>\n",
       "      <td>group4</td>\n",
       "      <td>group3</td>\n",
       "      <td>35.330722</td>\n",
       "      <td>161.266413</td>\n",
       "      <td>-90.604970</td>\n",
       "      <td>0.880541</td>\n",
       "    </tr>\n",
       "  </tbody>\n",
       "</table>"
      ],
      "text/plain": [
       "<IPython.core.display.HTML object>"
      ]
     },
     "metadata": {},
     "output_type": "display_data"
    },
    {
     "data": {
      "text/html": [
       "<h4> Tukey HSD: vm"
      ],
      "text/plain": [
       "<IPython.core.display.HTML object>"
      ]
     },
     "metadata": {},
     "output_type": "display_data"
    },
    {
     "data": {
      "text/html": [
       "<table border=\"1\" class=\"dataframe\">\n",
       "  <thead>\n",
       "    <tr style=\"text-align: right;\">\n",
       "      <th></th>\n",
       "      <th>group1</th>\n",
       "      <th>group2</th>\n",
       "      <th>diff</th>\n",
       "      <th>upr</th>\n",
       "      <th>lwr</th>\n",
       "      <th>p_adj</th>\n",
       "    </tr>\n",
       "  </thead>\n",
       "  <tbody>\n",
       "    <tr>\n",
       "      <th>0</th>\n",
       "      <td>group2</td>\n",
       "      <td>group1</td>\n",
       "      <td>13.013907</td>\n",
       "      <td>110.895488</td>\n",
       "      <td>-84.867674</td>\n",
       "      <td>0.985060</td>\n",
       "    </tr>\n",
       "    <tr>\n",
       "      <th>1</th>\n",
       "      <td>group3</td>\n",
       "      <td>group1</td>\n",
       "      <td>55.297498</td>\n",
       "      <td>180.441134</td>\n",
       "      <td>-69.846137</td>\n",
       "      <td>0.650532</td>\n",
       "    </tr>\n",
       "    <tr>\n",
       "      <th>2</th>\n",
       "      <td>group4</td>\n",
       "      <td>group1</td>\n",
       "      <td>90.628220</td>\n",
       "      <td>183.101809</td>\n",
       "      <td>-1.845369</td>\n",
       "      <td>0.056798</td>\n",
       "    </tr>\n",
       "    <tr>\n",
       "      <th>3</th>\n",
       "      <td>group3</td>\n",
       "      <td>group2</td>\n",
       "      <td>42.283591</td>\n",
       "      <td>172.242191</td>\n",
       "      <td>-87.675008</td>\n",
       "      <td>0.826184</td>\n",
       "    </tr>\n",
       "    <tr>\n",
       "      <th>4</th>\n",
       "      <td>group4</td>\n",
       "      <td>group2</td>\n",
       "      <td>77.614313</td>\n",
       "      <td>176.506541</td>\n",
       "      <td>-21.277915</td>\n",
       "      <td>0.173923</td>\n",
       "    </tr>\n",
       "    <tr>\n",
       "      <th>5</th>\n",
       "      <td>group4</td>\n",
       "      <td>group3</td>\n",
       "      <td>35.330722</td>\n",
       "      <td>161.266413</td>\n",
       "      <td>-90.604970</td>\n",
       "      <td>0.880541</td>\n",
       "    </tr>\n",
       "  </tbody>\n",
       "</table>"
      ],
      "text/plain": [
       "<IPython.core.display.HTML object>"
      ]
     },
     "metadata": {},
     "output_type": "display_data"
    },
    {
     "data": {
      "text/html": [
       "<h4> Tukey HSD: vm_nmda"
      ],
      "text/plain": [
       "<IPython.core.display.HTML object>"
      ]
     },
     "metadata": {},
     "output_type": "display_data"
    },
    {
     "data": {
      "text/html": [
       "<table border=\"1\" class=\"dataframe\">\n",
       "  <thead>\n",
       "    <tr style=\"text-align: right;\">\n",
       "      <th></th>\n",
       "      <th>group1</th>\n",
       "      <th>group2</th>\n",
       "      <th>diff</th>\n",
       "      <th>upr</th>\n",
       "      <th>lwr</th>\n",
       "      <th>p_adj</th>\n",
       "    </tr>\n",
       "  </thead>\n",
       "  <tbody>\n",
       "    <tr>\n",
       "      <th>0</th>\n",
       "      <td>group2</td>\n",
       "      <td>group1</td>\n",
       "      <td>13.013907</td>\n",
       "      <td>110.895488</td>\n",
       "      <td>-84.867674</td>\n",
       "      <td>0.985060</td>\n",
       "    </tr>\n",
       "    <tr>\n",
       "      <th>1</th>\n",
       "      <td>group3</td>\n",
       "      <td>group1</td>\n",
       "      <td>55.297498</td>\n",
       "      <td>180.441134</td>\n",
       "      <td>-69.846137</td>\n",
       "      <td>0.650532</td>\n",
       "    </tr>\n",
       "    <tr>\n",
       "      <th>2</th>\n",
       "      <td>group4</td>\n",
       "      <td>group1</td>\n",
       "      <td>90.628220</td>\n",
       "      <td>183.101809</td>\n",
       "      <td>-1.845369</td>\n",
       "      <td>0.056798</td>\n",
       "    </tr>\n",
       "    <tr>\n",
       "      <th>3</th>\n",
       "      <td>group3</td>\n",
       "      <td>group2</td>\n",
       "      <td>42.283591</td>\n",
       "      <td>172.242191</td>\n",
       "      <td>-87.675008</td>\n",
       "      <td>0.826184</td>\n",
       "    </tr>\n",
       "    <tr>\n",
       "      <th>4</th>\n",
       "      <td>group4</td>\n",
       "      <td>group2</td>\n",
       "      <td>77.614313</td>\n",
       "      <td>176.506541</td>\n",
       "      <td>-21.277915</td>\n",
       "      <td>0.173923</td>\n",
       "    </tr>\n",
       "    <tr>\n",
       "      <th>5</th>\n",
       "      <td>group4</td>\n",
       "      <td>group3</td>\n",
       "      <td>35.330722</td>\n",
       "      <td>161.266413</td>\n",
       "      <td>-90.604970</td>\n",
       "      <td>0.880541</td>\n",
       "    </tr>\n",
       "  </tbody>\n",
       "</table>"
      ],
      "text/plain": [
       "<IPython.core.display.HTML object>"
      ]
     },
     "metadata": {},
     "output_type": "display_data"
    },
    {
     "data": {
      "text/html": [
       "<h4> Tukey HSD: rin"
      ],
      "text/plain": [
       "<IPython.core.display.HTML object>"
      ]
     },
     "metadata": {},
     "output_type": "display_data"
    },
    {
     "data": {
      "text/html": [
       "<table border=\"1\" class=\"dataframe\">\n",
       "  <thead>\n",
       "    <tr style=\"text-align: right;\">\n",
       "      <th></th>\n",
       "      <th>group1</th>\n",
       "      <th>group2</th>\n",
       "      <th>diff</th>\n",
       "      <th>upr</th>\n",
       "      <th>lwr</th>\n",
       "      <th>p_adj</th>\n",
       "    </tr>\n",
       "  </thead>\n",
       "  <tbody>\n",
       "    <tr>\n",
       "      <th>0</th>\n",
       "      <td>group2</td>\n",
       "      <td>group1</td>\n",
       "      <td>13.013907</td>\n",
       "      <td>110.895488</td>\n",
       "      <td>-84.867674</td>\n",
       "      <td>0.985060</td>\n",
       "    </tr>\n",
       "    <tr>\n",
       "      <th>1</th>\n",
       "      <td>group3</td>\n",
       "      <td>group1</td>\n",
       "      <td>55.297498</td>\n",
       "      <td>180.441134</td>\n",
       "      <td>-69.846137</td>\n",
       "      <td>0.650532</td>\n",
       "    </tr>\n",
       "    <tr>\n",
       "      <th>2</th>\n",
       "      <td>group4</td>\n",
       "      <td>group1</td>\n",
       "      <td>90.628220</td>\n",
       "      <td>183.101809</td>\n",
       "      <td>-1.845369</td>\n",
       "      <td>0.056798</td>\n",
       "    </tr>\n",
       "    <tr>\n",
       "      <th>3</th>\n",
       "      <td>group3</td>\n",
       "      <td>group2</td>\n",
       "      <td>42.283591</td>\n",
       "      <td>172.242191</td>\n",
       "      <td>-87.675008</td>\n",
       "      <td>0.826184</td>\n",
       "    </tr>\n",
       "    <tr>\n",
       "      <th>4</th>\n",
       "      <td>group4</td>\n",
       "      <td>group2</td>\n",
       "      <td>77.614313</td>\n",
       "      <td>176.506541</td>\n",
       "      <td>-21.277915</td>\n",
       "      <td>0.173923</td>\n",
       "    </tr>\n",
       "    <tr>\n",
       "      <th>5</th>\n",
       "      <td>group4</td>\n",
       "      <td>group3</td>\n",
       "      <td>35.330722</td>\n",
       "      <td>161.266413</td>\n",
       "      <td>-90.604970</td>\n",
       "      <td>0.880541</td>\n",
       "    </tr>\n",
       "  </tbody>\n",
       "</table>"
      ],
      "text/plain": [
       "<IPython.core.display.HTML object>"
      ]
     },
     "metadata": {},
     "output_type": "display_data"
    }
   ],
   "source": [
    "def get_tukey(dep_var, label, df_tukey):\n",
    "    lm_x = stats.lm(\"dep_var ~ strain\")\n",
    "    tukey_aov = stats.aov(lm_x)\n",
    "    tukey_results = stats.TukeyHSD(tukey_aov)\n",
    "    calculations = base.labels(tukey_results[0])[1]\n",
    "    col_length = int(len(tukey_results[0])/len(calculations))\n",
    "    comparisons = base.labels(tukey_results[0])[0]\n",
    "\n",
    "    i = 0\n",
    "    while i < col_length:\n",
    "        comparison = comparisons[i].split('-')\n",
    "        row = {'group1': comparison[0],\n",
    "               'group2': comparison[1],\n",
    "                'diff': tukey_results[0][i],\n",
    "                'lwr' : tukey_results[0][i + col_length],\n",
    "                'upr' : tukey_results[0][i + col_length*2],\n",
    "                'p_adj' : tukey_results[0][i + col_length*3]}\n",
    "\n",
    "        df_tukey = df_tukey.append(row, ignore_index = True)\n",
    "        df_tukey = df_tukey[['group1', 'group2', 'diff', 'upr','lwr', 'p_adj']]\n",
    "        i = i + 1\n",
    "    return df_tukey\n",
    "    \n",
    "\n",
    "i = 0\n",
    "while i < len(analyze)-1:\n",
    "    df_tukey = pd.DataFrame()\n",
    "    display(HTML('<h4> Tukey HSD: ' + labels[i]))\n",
    "    df_tukey = get_tukey (analyze[i], labels[i], df_tukey)\n",
    "    display(HTML(df_tukey.to_html()))\n",
    "    i = i + 1   \n",
    "    \n",
    "\n",
    "\n"
   ]
  },
  {
   "cell_type": "markdown",
   "metadata": {},
   "source": [
    "### Reference code for remotely installing R packages through python"
   ]
  },
  {
   "cell_type": "code",
   "execution_count": null,
   "metadata": {},
   "outputs": [],
   "source": [
    "utils.chooseCRANmirror(ind=1) \n",
    "utils.install_packages (\"DescTools\")\n",
    "utils.install_packages(\"rcompanion\")\n",
    "utils.install_packages(\"lsmeans\")\n",
    "utils.install_packages(\"multcompView\")\n",
    "utils.install_packages(\"FSA\")"
   ]
  }
 ],
 "metadata": {
  "kernelspec": {
   "display_name": "Python 3",
   "language": "python",
   "name": "python3"
  },
  "language_info": {
   "codemirror_mode": {
    "name": "ipython",
    "version": 3
   },
   "file_extension": ".py",
   "mimetype": "text/x-python",
   "name": "python",
   "nbconvert_exporter": "python",
   "pygments_lexer": "ipython3",
   "version": "3.7.4"
  }
 },
 "nbformat": 4,
 "nbformat_minor": 2
}
